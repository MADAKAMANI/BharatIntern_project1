{
  "nbformat": 4,
  "nbformat_minor": 0,
  "metadata": {
    "colab": {
      "provenance": []
    },
    "kernelspec": {
      "name": "python3",
      "display_name": "Python 3"
    },
    "language_info": {
      "name": "python"
    }
  },
  "cells": [
    {
      "cell_type": "code",
      "execution_count": 3,
      "metadata": {
        "colab": {
          "base_uri": "https://localhost:8080/"
        },
        "id": "x14wh1tBETy-",
        "outputId": "b7944faf-dce9-419e-ca50-3c274aa1d67e"
      },
      "outputs": [
        {
          "output_type": "stream",
          "name": "stdout",
          "text": [
            "Enter sepal length (cm): 5.2\n",
            "Enter sepal width (cm): 3.7\n",
            "Enter petal length (cm): 1.6\n",
            "Enter petal width (cm): 0.3\n",
            "Predicted Iris species: setosa\n"
          ]
        }
      ],
      "source": [
        "# Import necessary libraries\n",
        "import numpy as np\n",
        "import pandas as pd\n",
        "from sklearn.datasets import load_iris\n",
        "from sklearn.neighbors import KNeighborsClassifier\n",
        "\n",
        "# Load the Iris dataset\n",
        "iris = load_iris()\n",
        "X = iris.data  # Features\n",
        "y = iris.target  # Target labels\n",
        "\n",
        "# Initialize the K-Nearest Neighbors (KNN) classifier\n",
        "k = 3  # You can adjust the number of neighbors\n",
        "knn = KNeighborsClassifier(n_neighbors=k)\n",
        "\n",
        "# Train the KNN classifier using the entire dataset\n",
        "knn.fit(X, y)\n",
        "\n",
        "# User input for the characteristics of an Iris flower\n",
        "sepal_length = float(input(\"Enter sepal length (cm): \"))\n",
        "sepal_width = float(input(\"Enter sepal width (cm): \"))\n",
        "petal_length = float(input(\"Enter petal length (cm): \"))\n",
        "petal_width = float(input(\"Enter petal width (cm): \"))\n",
        "\n",
        "# Make a prediction based on user input\n",
        "user_input = np.array([[sepal_length, sepal_width, petal_length, petal_width]])\n",
        "predicted_class = knn.predict(user_input)\n",
        "\n",
        "# Map the predicted class to the Iris species\n",
        "predicted_species = iris.target_names[predicted_class][0]\n",
        "\n",
        "print(f\"Predicted Iris species: {predicted_species}\")\n"
      ]
    },
    {
      "cell_type": "code",
      "source": [
        "# print(X, y)"
      ],
      "metadata": {
        "id": "RLvsx0HgEfoT"
      },
      "execution_count": 4,
      "outputs": []
    },
    {
      "cell_type": "code",
      "source": [],
      "metadata": {
        "id": "qRuMQI4oEt-f"
      },
      "execution_count": null,
      "outputs": []
    }
  ]
}